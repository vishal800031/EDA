{
 "cells": [
  {
   "cell_type": "code",
   "execution_count": 1,
   "id": "9a4363a2",
   "metadata": {},
   "outputs": [],
   "source": [
    "import pandas as pd\n",
    "df = pd.read_csv(\"olid-training-v1.0.tsv\",sep=\"\\t\")\n"
   ]
  },
  {
   "cell_type": "code",
   "execution_count": 2,
   "id": "971fcb99",
   "metadata": {},
   "outputs": [
    {
     "name": "stdout",
     "output_type": "stream",
     "text": [
      "<class 'pandas.core.frame.DataFrame'>\n",
      "RangeIndex: 13240 entries, 0 to 13239\n",
      "Data columns (total 5 columns):\n",
      " #   Column     Non-Null Count  Dtype \n",
      "---  ------     --------------  ----- \n",
      " 0   id         13240 non-null  int64 \n",
      " 1   tweet      13240 non-null  object\n",
      " 2   subtask_a  13240 non-null  object\n",
      " 3   subtask_b  4400 non-null   object\n",
      " 4   subtask_c  3876 non-null   object\n",
      "dtypes: int64(1), object(4)\n",
      "memory usage: 517.3+ KB\n"
     ]
    }
   ],
   "source": [
    "df.info()"
   ]
  },
  {
   "cell_type": "code",
   "execution_count": 3,
   "id": "a427db1f",
   "metadata": {},
   "outputs": [
    {
     "data": {
      "text/html": [
       "<div>\n",
       "<style scoped>\n",
       "    .dataframe tbody tr th:only-of-type {\n",
       "        vertical-align: middle;\n",
       "    }\n",
       "\n",
       "    .dataframe tbody tr th {\n",
       "        vertical-align: top;\n",
       "    }\n",
       "\n",
       "    .dataframe thead th {\n",
       "        text-align: right;\n",
       "    }\n",
       "</style>\n",
       "<table border=\"1\" class=\"dataframe\">\n",
       "  <thead>\n",
       "    <tr style=\"text-align: right;\">\n",
       "      <th></th>\n",
       "      <th>id</th>\n",
       "      <th>tweet</th>\n",
       "      <th>subtask_a</th>\n",
       "      <th>subtask_b</th>\n",
       "      <th>subtask_c</th>\n",
       "    </tr>\n",
       "  </thead>\n",
       "  <tbody>\n",
       "    <tr>\n",
       "      <th>0</th>\n",
       "      <td>86426</td>\n",
       "      <td>@USER She should ask a few native Americans wh...</td>\n",
       "      <td>OFF</td>\n",
       "      <td>UNT</td>\n",
       "      <td>NaN</td>\n",
       "    </tr>\n",
       "    <tr>\n",
       "      <th>1</th>\n",
       "      <td>90194</td>\n",
       "      <td>@USER @USER Go home you’re drunk!!! @USER #MAG...</td>\n",
       "      <td>OFF</td>\n",
       "      <td>TIN</td>\n",
       "      <td>IND</td>\n",
       "    </tr>\n",
       "    <tr>\n",
       "      <th>2</th>\n",
       "      <td>16820</td>\n",
       "      <td>Amazon is investigating Chinese employees who ...</td>\n",
       "      <td>NOT</td>\n",
       "      <td>NaN</td>\n",
       "      <td>NaN</td>\n",
       "    </tr>\n",
       "    <tr>\n",
       "      <th>3</th>\n",
       "      <td>62688</td>\n",
       "      <td>@USER Someone should'veTaken\" this piece of sh...</td>\n",
       "      <td>OFF</td>\n",
       "      <td>UNT</td>\n",
       "      <td>NaN</td>\n",
       "    </tr>\n",
       "    <tr>\n",
       "      <th>4</th>\n",
       "      <td>43605</td>\n",
       "      <td>@USER @USER Obama wanted liberals &amp;amp; illega...</td>\n",
       "      <td>NOT</td>\n",
       "      <td>NaN</td>\n",
       "      <td>NaN</td>\n",
       "    </tr>\n",
       "  </tbody>\n",
       "</table>\n",
       "</div>"
      ],
      "text/plain": [
       "      id                                              tweet subtask_a  \\\n",
       "0  86426  @USER She should ask a few native Americans wh...       OFF   \n",
       "1  90194  @USER @USER Go home you’re drunk!!! @USER #MAG...       OFF   \n",
       "2  16820  Amazon is investigating Chinese employees who ...       NOT   \n",
       "3  62688  @USER Someone should'veTaken\" this piece of sh...       OFF   \n",
       "4  43605  @USER @USER Obama wanted liberals &amp; illega...       NOT   \n",
       "\n",
       "  subtask_b subtask_c  \n",
       "0       UNT       NaN  \n",
       "1       TIN       IND  \n",
       "2       NaN       NaN  \n",
       "3       UNT       NaN  \n",
       "4       NaN       NaN  "
      ]
     },
     "execution_count": 3,
     "metadata": {},
     "output_type": "execute_result"
    }
   ],
   "source": [
    "df.head()"
   ]
  },
  {
   "cell_type": "code",
   "execution_count": 4,
   "id": "3b594d91",
   "metadata": {},
   "outputs": [
    {
     "data": {
      "text/html": [
       "<div>\n",
       "<style scoped>\n",
       "    .dataframe tbody tr th:only-of-type {\n",
       "        vertical-align: middle;\n",
       "    }\n",
       "\n",
       "    .dataframe tbody tr th {\n",
       "        vertical-align: top;\n",
       "    }\n",
       "\n",
       "    .dataframe thead th {\n",
       "        text-align: right;\n",
       "    }\n",
       "</style>\n",
       "<table border=\"1\" class=\"dataframe\">\n",
       "  <thead>\n",
       "    <tr style=\"text-align: right;\">\n",
       "      <th></th>\n",
       "      <th>id</th>\n",
       "      <th>tweet</th>\n",
       "      <th>subtask_a</th>\n",
       "      <th>subtask_b</th>\n",
       "      <th>subtask_c</th>\n",
       "    </tr>\n",
       "  </thead>\n",
       "  <tbody>\n",
       "    <tr>\n",
       "      <th>10901</th>\n",
       "      <td>16498</td>\n",
       "      <td>@USER Copycat</td>\n",
       "      <td>NOT</td>\n",
       "      <td>NaN</td>\n",
       "      <td>NaN</td>\n",
       "    </tr>\n",
       "    <tr>\n",
       "      <th>5323</th>\n",
       "      <td>96433</td>\n",
       "      <td>@USER @USER @USER @USER NICELY SAID MR.REDWOOD...</td>\n",
       "      <td>NOT</td>\n",
       "      <td>NaN</td>\n",
       "      <td>NaN</td>\n",
       "    </tr>\n",
       "    <tr>\n",
       "      <th>8456</th>\n",
       "      <td>81160</td>\n",
       "      <td>@USER How about as a Republic?</td>\n",
       "      <td>NOT</td>\n",
       "      <td>NaN</td>\n",
       "      <td>NaN</td>\n",
       "    </tr>\n",
       "    <tr>\n",
       "      <th>10872</th>\n",
       "      <td>89747</td>\n",
       "      <td>@USER @USER is anything but an independent thi...</td>\n",
       "      <td>NOT</td>\n",
       "      <td>NaN</td>\n",
       "      <td>NaN</td>\n",
       "    </tr>\n",
       "    <tr>\n",
       "      <th>11557</th>\n",
       "      <td>99331</td>\n",
       "      <td>@USER  But with an active membership in Antifa...</td>\n",
       "      <td>NOT</td>\n",
       "      <td>NaN</td>\n",
       "      <td>NaN</td>\n",
       "    </tr>\n",
       "    <tr>\n",
       "      <th>12527</th>\n",
       "      <td>57449</td>\n",
       "      <td>@USER @USER The Republicans are against Nancy ...</td>\n",
       "      <td>NOT</td>\n",
       "      <td>NaN</td>\n",
       "      <td>NaN</td>\n",
       "    </tr>\n",
       "    <tr>\n",
       "      <th>7924</th>\n",
       "      <td>55703</td>\n",
       "      <td>@USER @USER @USER @USER @USER @USER @USER @USE...</td>\n",
       "      <td>NOT</td>\n",
       "      <td>NaN</td>\n",
       "      <td>NaN</td>\n",
       "    </tr>\n",
       "    <tr>\n",
       "      <th>5471</th>\n",
       "      <td>24698</td>\n",
       "      <td>And there we go ... so according to the MAGA b...</td>\n",
       "      <td>OFF</td>\n",
       "      <td>TIN</td>\n",
       "      <td>GRP</td>\n",
       "    </tr>\n",
       "    <tr>\n",
       "      <th>4292</th>\n",
       "      <td>58613</td>\n",
       "      <td>.@USER I'm not installing your shitty app, but...</td>\n",
       "      <td>OFF</td>\n",
       "      <td>TIN</td>\n",
       "      <td>GRP</td>\n",
       "    </tr>\n",
       "    <tr>\n",
       "      <th>5971</th>\n",
       "      <td>52788</td>\n",
       "      <td>@USER Did he found out by himself?</td>\n",
       "      <td>NOT</td>\n",
       "      <td>NaN</td>\n",
       "      <td>NaN</td>\n",
       "    </tr>\n",
       "  </tbody>\n",
       "</table>\n",
       "</div>"
      ],
      "text/plain": [
       "          id                                              tweet subtask_a  \\\n",
       "10901  16498                                      @USER Copycat       NOT   \n",
       "5323   96433  @USER @USER @USER @USER NICELY SAID MR.REDWOOD...       NOT   \n",
       "8456   81160                     @USER How about as a Republic?       NOT   \n",
       "10872  89747  @USER @USER is anything but an independent thi...       NOT   \n",
       "11557  99331  @USER  But with an active membership in Antifa...       NOT   \n",
       "12527  57449  @USER @USER The Republicans are against Nancy ...       NOT   \n",
       "7924   55703  @USER @USER @USER @USER @USER @USER @USER @USE...       NOT   \n",
       "5471   24698  And there we go ... so according to the MAGA b...       OFF   \n",
       "4292   58613  .@USER I'm not installing your shitty app, but...       OFF   \n",
       "5971   52788                 @USER Did he found out by himself?       NOT   \n",
       "\n",
       "      subtask_b subtask_c  \n",
       "10901       NaN       NaN  \n",
       "5323        NaN       NaN  \n",
       "8456        NaN       NaN  \n",
       "10872       NaN       NaN  \n",
       "11557       NaN       NaN  \n",
       "12527       NaN       NaN  \n",
       "7924        NaN       NaN  \n",
       "5471        TIN       GRP  \n",
       "4292        TIN       GRP  \n",
       "5971        NaN       NaN  "
      ]
     },
     "execution_count": 4,
     "metadata": {},
     "output_type": "execute_result"
    }
   ],
   "source": [
    "df.sample(10)"
   ]
  },
  {
   "cell_type": "code",
   "execution_count": 5,
   "id": "f7e6a144",
   "metadata": {},
   "outputs": [
    {
     "data": {
      "text/plain": [
       "(13240, 5)"
      ]
     },
     "execution_count": 5,
     "metadata": {},
     "output_type": "execute_result"
    }
   ],
   "source": [
    "df.shape"
   ]
  },
  {
   "cell_type": "code",
   "execution_count": 6,
   "id": "9a180027",
   "metadata": {},
   "outputs": [
    {
     "name": "stdout",
     "output_type": "stream",
     "text": [
      "<class 'pandas.core.frame.DataFrame'>\n",
      "RangeIndex: 13240 entries, 0 to 13239\n",
      "Data columns (total 5 columns):\n",
      " #   Column     Non-Null Count  Dtype \n",
      "---  ------     --------------  ----- \n",
      " 0   id         13240 non-null  int64 \n",
      " 1   tweet      13240 non-null  object\n",
      " 2   subtask_a  13240 non-null  object\n",
      " 3   subtask_b  4400 non-null   object\n",
      " 4   subtask_c  3876 non-null   object\n",
      "dtypes: int64(1), object(4)\n",
      "memory usage: 517.3+ KB\n"
     ]
    }
   ],
   "source": [
    "df.info()"
   ]
  },
  {
   "cell_type": "code",
   "execution_count": 7,
   "id": "b5875660",
   "metadata": {},
   "outputs": [
    {
     "data": {
      "text/plain": [
       "(13240, 5)"
      ]
     },
     "execution_count": 7,
     "metadata": {},
     "output_type": "execute_result"
    }
   ],
   "source": [
    "df.shape   # number of rows and column "
   ]
  },
  {
   "cell_type": "code",
   "execution_count": 8,
   "id": "f481c67e",
   "metadata": {},
   "outputs": [
    {
     "data": {
      "text/plain": [
       "id              0\n",
       "tweet           0\n",
       "subtask_a       0\n",
       "subtask_b    8840\n",
       "subtask_c    9364\n",
       "dtype: int64"
      ]
     },
     "execution_count": 8,
     "metadata": {},
     "output_type": "execute_result"
    }
   ],
   "source": [
    "# check for missing values \n",
    "df.isnull().sum()"
   ]
  },
  {
   "cell_type": "code",
   "execution_count": 10,
   "id": "9140207e",
   "metadata": {},
   "outputs": [
    {
     "name": "stdout",
     "output_type": "stream",
     "text": [
      "Index(['id', 'tweet', 'subtask_a', 'subtask_b', 'subtask_c'], dtype='object')\n"
     ]
    }
   ],
   "source": [
    "print(df.columns)"
   ]
  },
  {
   "cell_type": "code",
   "execution_count": 11,
   "id": "a2bfe6af",
   "metadata": {},
   "outputs": [
    {
     "name": "stdout",
     "output_type": "stream",
     "text": [
      "subtask_a\n",
      "NOT    8840\n",
      "OFF    4400\n",
      "Name: count, dtype: int64\n"
     ]
    },
    {
     "data": {
      "image/png": "[encoded data removed]",
      "text/plain": [
       "<Figure size 600x400 with 1 Axes>"
      ]
     },
     "metadata": {},
     "output_type": "display_data"
    }
   ],
   "source": [
    "# checking how many tweets are offencive or not \n",
    "import matplotlib.pyplot as plt\n",
    "\n",
    "counts = df['subtask_a'].value_counts()\n",
    "print(counts)\n",
    "plt.figure(figsize=(6,4))\n",
    "counts.plot(kind='bar', color=['green','red'])\n",
    "\n",
    "plt.title(\"Distribution of Offensive vs Not Offensive Tweets\")\n",
    "plt.xlabel(\"Category\")\n",
    "plt.ylabel(\"Count\")\n",
    "plt.xticks(rotation=0)\n",
    "plt.show()"
   ]
  },
  {
   "cell_type": "code",
   "execution_count": null,
   "id": "fbfc7f78",
   "metadata": {},
   "outputs": [
    {
     "name": "stdout",
     "output_type": "stream",
     "text": [
      "subtask_b\n",
      "TIN    3876\n",
      "UNT     524\n",
      "Name: count, dtype: int64\n"
     ]
    },
    {
     "data": {
      "image/png": "[encoded data removed]",
      "text/plain": [
       "<Figure size 600x400 with 1 Axes>"
      ]
     },
     "metadata": {},
     "output_type": "display_data"
    }
   ],
   "source": [
    "# if tweets are offencive then checking how many are targeted and non targeted\n",
    "print(df['subtask_b'].value_counts())\n",
    "plt.figure(figsize=(6,4))\n",
    "df['subtask_b'].value_counts().plot(kind='bar', color=['green','red'])\n",
    "\n",
    "plt.title(\"Distribution of Targeted vs Untargeted Tweets\")\n",
    "plt.xlabel(\"Category of tweets\")\n",
    "plt.ylabel(\"Count\")\n",
    "plt.xticks(rotation=0)\n",
    "plt.show()"
   ]
  },
  {
   "cell_type": "code",
   "execution_count": 13,
   "id": "9a734bb9",
   "metadata": {},
   "outputs": [
    {
     "name": "stdout",
     "output_type": "stream",
     "text": [
      "subtask_c\n",
      "IND    2407\n",
      "GRP    1074\n",
      "OTH     395\n",
      "Name: count, dtype: int64\n"
     ]
    },
    {
     "data": {
      "text/plain": [
       "Text(0.5, 1.0, 'Targeted tweets')"
      ]
     },
     "execution_count": 13,
     "metadata": {},
     "output_type": "execute_result"
    },
    {
     "data": {
      "image/png": "[encoded data removed]",
      "text/plain": [
       "<Figure size 600x400 with 1 Axes>"
      ]
     },
     "metadata": {},
     "output_type": "display_data"
    }
   ],
   "source": [
    "# if tweets are targeted then check who is targeted?\n",
    "print(df['subtask_c'].value_counts())\n",
    "plt.figure(figsize=(6,4))\n",
    "df['subtask_c'].value_counts().plot(kind='bar', color=['green','red','blue'])\n",
    "\n",
    "plt.title('Targeted tweets')"
   ]
  },
  {
   "cell_type": "code",
   "execution_count": 14,
   "id": "72e3f00f",
   "metadata": {},
   "outputs": [
    {
     "name": "stdout",
     "output_type": "stream",
     "text": [
      "count    13240.000000\n",
      "mean       125.908459\n",
      "std         86.625831\n",
      "min         10.000000\n",
      "25%         55.000000\n",
      "50%        102.000000\n",
      "75%        185.000000\n",
      "max        580.000000\n",
      "Name: tweet_length, dtype: float64\n"
     ]
    }
   ],
   "source": [
    "# New column with character length of each tweet\n",
    "df['tweet_length'] = df['tweet'].apply(len)\n",
    "\n",
    "\n",
    "print(df['tweet_length'].describe())\n"
   ]
  },
  {
   "cell_type": "code",
   "execution_count": null,
   "id": "6bfc6b8c",
   "metadata": {},
   "outputs": [],
   "source": [
    "# plt.figure(figsize=(6,4))\n",
    "# df['tweet_length'].plot(kind='bar', color=['green','red','blue'])\n",
    "\n",
    "# plt.title(\"Who is targeted\")\n",
    "# plt.xlabel(\"Category\")\n",
    "# plt.ylabel(\"Count\")\n",
    "# plt.xticks(rotation=0)\n",
    "# plt.show()"
   ]
  },
  {
   "cell_type": "code",
   "execution_count": null,
   "id": "3428fb02",
   "metadata": {},
   "outputs": [],
   "source": [
    "df.columns"
   ]
  },
  {
   "cell_type": "code",
   "execution_count": 15,
   "id": "a93ffeec",
   "metadata": {},
   "outputs": [
    {
     "data": {
      "image/png": "[encoded data removed]",
      "text/plain": [
       "<Figure size 800x500 with 1 Axes>"
      ]
     },
     "metadata": {},
     "output_type": "display_data"
    }
   ],
   "source": [
    "import seaborn as sns\n",
    "\n",
    "# Distribution of Tweet Length\n",
    "plt.figure(figsize=(8,5))\n",
    "sns.histplot(df[\"tweet_length\"], bins=50, kde=True)\n",
    "plt.title(\"Tweet Length Distribution\")\n",
    "plt.show()\n",
    "\n",
    "# histplot decribes the data distribution (like how many values in that particular range)"
   ]
  },
  {
   "cell_type": "code",
   "execution_count": 16,
   "id": "44e868ed",
   "metadata": {},
   "outputs": [
    {
     "name": "stdout",
     "output_type": "stream",
     "text": [
      "subtask_a\n",
      "NOT    122.687557\n",
      "OFF    132.379545\n",
      "Name: tweet_length, dtype: float64\n",
      "subtask_b\n",
      "TIN    135.910733\n",
      "UNT    106.259542\n",
      "Name: tweet_length, dtype: float64\n",
      "subtask_c\n",
      "GRP    162.309125\n",
      "IND    122.453677\n",
      "OTH    146.136709\n",
      "Name: tweet_length, dtype: float64\n"
     ]
    }
   ],
   "source": [
    "# Correlation of tweet length with targets\n",
    "print(df.groupby(\"subtask_a\")[\"tweet_length\"].mean())\n",
    "print(df.groupby(\"subtask_b\")[\"tweet_length\"].mean())\n",
    "print(df.groupby(\"subtask_c\")[\"tweet_length\"].mean())\n"
   ]
  },
  {
   "cell_type": "code",
   "execution_count": 18,
   "id": "9a3a9b4e",
   "metadata": {},
   "outputs": [
    {
     "name": "stdout",
     "output_type": "stream",
     "text": [
      "                                               tweet  \\\n",
      "0  @USER She should ask a few native Americans wh...   \n",
      "1  @USER @USER Go home you’re drunk!!! @USER #MAG...   \n",
      "2  Amazon is investigating Chinese employees who ...   \n",
      "3  @USER Someone should'veTaken\" this piece of sh...   \n",
      "4  @USER @USER Obama wanted liberals &amp; illega...   \n",
      "\n",
      "                                         clean_tweet  \n",
      "0  She should ask a few native Americans what the...  \n",
      "1                   Go home you’re drunk!!! 👊🇺🇸👊 URL  \n",
      "2  Amazon is investigating Chinese employees who ...  \n",
      "3  Someone should'veTaken\" this piece of shit to ...  \n",
      "4  Obama wanted liberals &amp; illegals to move i...  \n"
     ]
    }
   ],
   "source": [
    "import re\n",
    "# Function to clean tweets\n",
    "def clean_tweet(text):\n",
    "    # Remove mentions (@usernames)\n",
    "    text = re.sub(r\"@\\w+\", \"\", text)\n",
    "    # Remove hashtags (#word but keep the word if you want remove just the symbol)\n",
    "    text = re.sub(r\"#\\w+\", \"\", text)\n",
    "    # Remove extra spaces\n",
    "    text = re.sub(r\"\\s+\", \" \", text).strip()\n",
    "    return text\n",
    "\n",
    "# Apply cleaning\n",
    "df[\"clean_tweet\"] = df[\"tweet\"].apply(clean_tweet)\n",
    "\n",
    "# Check results\n",
    "print(df[[\"tweet\", \"clean_tweet\"]].head())\n"
   ]
  },
  {
   "cell_type": "code",
   "execution_count": 22,
   "id": "3607b70c",
   "metadata": {},
   "outputs": [
    {
     "data": {
      "text/plain": [
       "0        She should ask a few native Americans what the...\n",
       "1                         Go home you’re drunk!!! 👊🇺🇸👊 URL\n",
       "2        Amazon is investigating Chinese employees who ...\n",
       "3        Someone should'veTaken\" this piece of shit to ...\n",
       "4        Obama wanted liberals &amp; illegals to move i...\n",
       "                               ...                        \n",
       "13235    Sometimes I get strong vibes from people and t...\n",
       "13236    Benidorm ✅ Creamfields ✅ Maga ✅ Not too shabby...\n",
       "13237    And why report this garbage. We don't give a c...\n",
       "13238                                                Pussy\n",
       "13239                                     vs. and is a URL\n",
       "Name: clean_tweet, Length: 13240, dtype: object"
      ]
     },
     "execution_count": 22,
     "metadata": {},
     "output_type": "execute_result"
    }
   ],
   "source": [
    "df[\"clean_tweet\"]"
   ]
  },
  {
   "cell_type": "code",
   "execution_count": 23,
   "id": "36d4b73b",
   "metadata": {},
   "outputs": [],
   "source": [
    "# Replace NaN in subtask_b and subtask_c with \"NIL\"\n",
    "df['subtask_b'] = df['subtask_b'].fillna(\"non offensive tweets\")\n",
    "df['subtask_c'] = df['subtask_c'].fillna(\"non targeted tweets\")"
   ]
  },
  {
   "cell_type": "code",
   "execution_count": null,
   "id": "f4f90c7f",
   "metadata": {},
   "outputs": [
    {
     "name": "stdout",
     "output_type": "stream",
     "text": [
      "subtask_b\n",
      "non offensive tweets    8840\n",
      "TIN                     3876\n",
      "UNT                      524\n",
      "Name: count, dtype: int64\n"
     ]
    },
    {
     "data": {
      "image/png": "[encoded data removed]",
      "text/plain": [
       "<Figure size 600x400 with 1 Axes>"
      ]
     },
     "metadata": {},
     "output_type": "display_data"
    }
   ],
   "source": [
    "# now it shows the non_ofensive tweets also\n",
    "print(df['subtask_b'].value_counts())\n",
    "plt.figure(figsize=(6,4))\n",
    "df['subtask_b'].value_counts().plot(kind='bar', color=['green','red'])\n",
    "\n",
    "plt.title(\"Distribution of Targeted vs Untargeted Tweets\")\n",
    "plt.xlabel(\"Category of tweets\")\n",
    "plt.ylabel(\"Count\")\n",
    "plt.xticks(rotation=0)\n",
    "plt.show()"
   ]
  },
  {
   "cell_type": "code",
   "execution_count": 27,
   "id": "d4353a2f",
   "metadata": {},
   "outputs": [
    {
     "name": "stdout",
     "output_type": "stream",
     "text": [
      "subtask_c\n",
      "non targeted tweets    9364\n",
      "IND                    2407\n",
      "GRP                    1074\n",
      "OTH                     395\n",
      "Name: count, dtype: int64\n"
     ]
    },
    {
     "data": {
      "text/plain": [
       "(array([0, 1, 2, 3]),\n",
       " [Text(0, 0, 'non targeted tweets'),\n",
       "  Text(1, 0, 'IND'),\n",
       "  Text(2, 0, 'GRP'),\n",
       "  Text(3, 0, 'OTH')])"
      ]
     },
     "execution_count": 27,
     "metadata": {},
     "output_type": "execute_result"
    },
    {
     "data": {
      "image/png": "[encoded data removed]",
      "text/plain": [
       "<Figure size 600x400 with 1 Axes>"
      ]
     },
     "metadata": {},
     "output_type": "display_data"
    }
   ],
   "source": [
    "# and it shows non-targeted also\n",
    "print(df['subtask_c'].value_counts())\n",
    "plt.figure(figsize=(6,4))\n",
    "df['subtask_c'].value_counts().plot(kind='bar', color=['green','red','blue'])\n",
    "\n",
    "plt.title('Targeted tweets')\n",
    "plt.xticks(rotation=0)\n"
   ]
  }
 ],
 "metadata": {
  "kernelspec": {
   "display_name": "uth",
   "language": "python",
   "name": "python3"
  },
  "language_info": {
   "codemirror_mode": {
    "name": "ipython",
    "version": 3
   },
   "file_extension": ".py",
   "mimetype": "text/x-python",
   "name": "python",
   "nbconvert_exporter": "python",
   "pygments_lexer": "ipython3",
   "version": "3.13.6"
  }
 },
 "nbformat": 4,
 "nbformat_minor": 5
}
